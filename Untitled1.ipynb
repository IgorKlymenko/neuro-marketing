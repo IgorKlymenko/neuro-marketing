{
 "cells": [
  {
   "cell_type": "code",
   "execution_count": 34,
   "id": "4a99f701-3d4c-4421-9f3f-83a1326f06da",
   "metadata": {},
   "outputs": [],
   "source": [
    "import numpy as np\n",
    "import pandas as pd\n",
    "import os"
   ]
  },
  {
   "cell_type": "code",
   "execution_count": 84,
   "id": "490102e8-374c-4609-a44e-7b8ff62fec84",
   "metadata": {},
   "outputs": [
    {
     "name": "stdout",
     "output_type": "stream",
     "text": [
      "               0             1            2             3             4\n",
      "0    1984.342924    470.523117    70.930225     80.421920   1484.758852\n",
      "1  115662.604965  24679.274311  7671.625674  13437.428950  74119.458523\n",
      "2  116039.735085  18409.685279  4601.894000   2294.422032  73097.279618\n",
      "3    3388.335346    568.181402    46.111273     41.383005   1608.744657\n",
      "            0           1           2            3              4\n",
      "0  128.886769    4.614524    6.498468    12.226536    3153.156085\n",
      "1  418.145454  685.600484  740.503179  3409.450044  214571.778808\n",
      "2   76.543236   24.904545   27.200657   168.184461  218598.757963\n",
      "3  108.467136    3.192584    5.380197     9.181027    2869.563137\n"
     ]
    }
   ],
   "source": [
    "#Load CSV\n",
    "df_n = pd.read_csv('data/e/e1.csv', header = None)\n",
    "print(df_n)\n",
    "\n",
    "#Load CSV\n",
    "df_e = pd.read_csv('data/n/n1.csv', header = None)\n",
    "print(df_e)"
   ]
  },
  {
   "cell_type": "code",
   "execution_count": 86,
   "id": "5f6aa266-aeca-46dc-a60e-f1376e4aa5f4",
   "metadata": {},
   "outputs": [
    {
     "name": "stdout",
     "output_type": "stream",
     "text": [
      "[[1.98434292e+03 4.70523117e+02 7.09302250e+01 8.04219199e+01\n",
      "  1.48475885e+03]\n",
      " [1.15662605e+05 2.46792743e+04 7.67162567e+03 1.34374289e+04\n",
      "  7.41194585e+04]\n",
      " [1.16039735e+05 1.84096853e+04 4.60189400e+03 2.29442203e+03\n",
      "  7.30972796e+04]\n",
      " [3.38833535e+03 5.68181402e+02 4.61112729e+01 4.13830054e+01\n",
      "  1.60874466e+03]]\n",
      "[[1.28886769e+02 4.61452380e+00 6.49846789e+00 1.22265359e+01\n",
      "  3.15315609e+03]\n",
      " [4.18145454e+02 6.85600484e+02 7.40503179e+02 3.40945004e+03\n",
      "  2.14571779e+05]\n",
      " [7.65432361e+01 2.49045453e+01 2.72006569e+01 1.68184461e+02\n",
      "  2.18598758e+05]\n",
      " [1.08467136e+02 3.19258366e+00 5.38019722e+00 9.18102656e+00\n",
      "  2.86956314e+03]]\n"
     ]
    }
   ],
   "source": [
    "data_n = df_n.values\n",
    "print(data_n)\n",
    "flattened_matrices_n = [np.array(data_n).reshape(4, 5).flatten()]\n",
    "\n",
    "\n",
    "data_e = df_e.values\n",
    "print(data_e)\n",
    "flattened_matrices_e = [np.array(data_e).reshape(4, 5).flatten()]"
   ]
  },
  {
   "cell_type": "code",
   "execution_count": 88,
   "id": "a512d3dc-6e66-4ca4-8c16-3cf23bb7130b",
   "metadata": {},
   "outputs": [],
   "source": [
    "# Normalize\n",
    "flattened_matrices_n = flattened_matrices_n / np.linalg.norm(flattened_matrices_n)\n",
    "flattened_matrices_e = flattened_matrices_e / np.linalg.norm(flattened_matrices_e)"
   ]
  },
  {
   "cell_type": "code",
   "execution_count": 90,
   "id": "45f564cf-8140-4105-9812-22cdaeb6af12",
   "metadata": {},
   "outputs": [
    {
     "name": "stdout",
     "output_type": "stream",
     "text": [
      "[[0.52981411]]\n"
     ]
    }
   ],
   "source": [
    "print(np.dot(flattened_matrices_n, flattened_matrices_e.T))"
   ]
  },
  {
   "cell_type": "code",
   "execution_count": 82,
   "id": "dc36c3ee-bc99-4221-b95a-218b62ded5af",
   "metadata": {},
   "outputs": [],
   "source": [
    "from sklearn.cluster import KMeans\n",
    "from sklearn.metrics import silhouette_score\n"
   ]
  },
  {
   "cell_type": "code",
   "execution_count": null,
   "id": "8abfd3ba-549c-4c31-97fd-5795c320edef",
   "metadata": {},
   "outputs": [],
   "source": []
  }
 ],
 "metadata": {
  "kernelspec": {
   "display_name": "Python 3 (ipykernel)",
   "language": "python",
   "name": "python3"
  },
  "language_info": {
   "codemirror_mode": {
    "name": "ipython",
    "version": 3
   },
   "file_extension": ".py",
   "mimetype": "text/x-python",
   "name": "python",
   "nbconvert_exporter": "python",
   "pygments_lexer": "ipython3",
   "version": "3.12.2"
  }
 },
 "nbformat": 4,
 "nbformat_minor": 5
}
